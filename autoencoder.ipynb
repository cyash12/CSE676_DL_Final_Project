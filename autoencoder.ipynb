{
  "nbformat": 4,
  "nbformat_minor": 5,
  "metadata": {
    "kernelspec": {
      "display_name": "Python 3",
      "language": "python",
      "name": "python3"
    },
    "language_info": {
      "codemirror_mode": {
        "name": "ipython",
        "version": 3
      },
      "file_extension": ".py",
      "mimetype": "text/x-python",
      "name": "python",
      "nbconvert_exporter": "python",
      "pygments_lexer": "ipython3",
      "version": "3.8.8"
    },
    "colab": {
      "name": "autoencoder.ipynb",
      "provenance": [],
      "collapsed_sections": [],
      "machine_shape": "hm"
    },
    "accelerator": "GPU"
  },
  "cells": [
    {
      "cell_type": "code",
      "metadata": {
        "id": "2dca82c5"
      },
      "source": [
        "import pandas as pd\n",
        "import numpy as np\n",
        "import tensorflow as tf\n",
        "import pprint\n",
        "from tensorflow.keras.utils import to_categorical\n",
        "from scipy.spatial.distance import cdist\n",
        "from sklearn.metrics import davies_bouldin_score, silhouette_score\n",
        "import pickle\n",
        "import matplotlib.pyplot as plt"
      ],
      "id": "2dca82c5",
      "execution_count": null,
      "outputs": []
    },
    {
      "cell_type": "code",
      "metadata": {
        "id": "0kd3VGJIqwpd"
      },
      "source": [
        "#AutoEncoder "
      ],
      "id": "0kd3VGJIqwpd",
      "execution_count": null,
      "outputs": []
    },
    {
      "cell_type": "code",
      "metadata": {
        "id": "yNnsz4-OqzGg"
      },
      "source": [
        "import numpy as np\n",
        "import tensorflow as tf \n",
        "from tensorflow.keras.layers import Dense\n",
        "from tensorflow.keras.models import Sequential\n",
        "from tensorflow.keras.utils import to_categorical\n",
        "from tensorflow.keras.optimizers import SGD, Adam\n",
        "from keras import layers\n",
        "import keras\n",
        "import datetime, os\n",
        "import matplotlib.pyplot as plt\n",
        "from sklearn.metrics import davies_bouldin_score, silhouette_score\n",
        "from sklearn.cluster import KMeans\n"
      ],
      "id": "yNnsz4-OqzGg",
      "execution_count": null,
      "outputs": []
    },
    {
      "cell_type": "code",
      "source": [
        "from google.colab import drive\n",
        "drive.mount('/content/drive')"
      ],
      "metadata": {
        "colab": {
          "base_uri": "https://localhost:8080/"
        },
        "id": "hSuY67fR2J8c",
        "outputId": "80fb2940-8a25-4a72-eb32-115b7e6c45d0"
      },
      "id": "hSuY67fR2J8c",
      "execution_count": null,
      "outputs": [
        {
          "output_type": "stream",
          "name": "stdout",
          "text": [
            "Mounted at /content/drive\n"
          ]
        }
      ]
    },
    {
      "cell_type": "code",
      "source": [
        "x_train = pd.read_pickle('/content/drive/MyDrive/MSD/song_artist_terms_OHE.pkl')"
      ],
      "metadata": {
        "id": "vmBNq3gLADBn"
      },
      "id": "vmBNq3gLADBn",
      "execution_count": null,
      "outputs": []
    },
    {
      "cell_type": "code",
      "source": [
        "x_train"
      ],
      "metadata": {
        "colab": {
          "base_uri": "https://localhost:8080/",
          "height": 557
        },
        "id": "POIHMUPmV_eL",
        "outputId": "cf047e82-0fb2-4258-8143-9eee90960358"
      },
      "id": "POIHMUPmV_eL",
      "execution_count": null,
      "outputs": [
        {
          "output_type": "execute_result",
          "data": {
            "text/plain": [
              "                     song_id     b\"death 'n  b\"drill'n'bass\"  \\\n",
              "0      b'SOCRUBZ12A58A7A6C3'  0           0                0   \n",
              "1      b'SOCHAXM12AB01876F8'  0           0                0   \n",
              "2      b'SOYLFWQ12A8C13DFF4'  0           0                0   \n",
              "3      b'SOVXNQF12A8C13075E'  0           0                0   \n",
              "4      b'SOTICDK12A8C13A367'  0           0                0   \n",
              "...                      ... ..         ...              ...   \n",
              "10000  b'SOEWCSS12A8C13AFFF'  0           0                0   \n",
              "10001  b'SOMCIPW12A8C144CA3'  0           0                0   \n",
              "10002  b'SOMONOL12AB01804C6'  0           0                0   \n",
              "10003  b'SOEJQOM12A8C13D882'  0           0                0   \n",
              "10004  b'SORBRJO12A8C13F0BC'  0           0                0   \n",
              "\n",
              "       b\"drill'n'bass\" b'dhr'  b\"drill'n'bass\" b'indietronica  \\\n",
              "0                           0                               0   \n",
              "1                           0                               0   \n",
              "2                           0                               0   \n",
              "3                           0                               0   \n",
              "4                           0                               0   \n",
              "...                       ...                             ...   \n",
              "10000                       0                               0   \n",
              "10001                       0                               0   \n",
              "10002                       0                               0   \n",
              "10003                       0                               0   \n",
              "10004                       0                               0   \n",
              "\n",
              "       b\"drill'n'bass\" b'monotone  b\"drill'n'bass\" b'net labels music  \\\n",
              "0                               0                                   0   \n",
              "1                               0                                   0   \n",
              "2                               0                                   0   \n",
              "3                               0                                   0   \n",
              "4                               0                                   0   \n",
              "...                           ...                                 ...   \n",
              "10000                           0                                   0   \n",
              "10001                           0                                   0   \n",
              "10002                           0                                   0   \n",
              "10003                           0                                   0   \n",
              "10004                           0                                   0   \n",
              "\n",
              "       b\"drill'n'bass\" b'progressive metalcore  b\"drill'n'bass\" b'sample  ...  \\\n",
              "0                                            0                         0  ...   \n",
              "1                                            0                         0  ...   \n",
              "2                                            0                         0  ...   \n",
              "3                                            0                         0  ...   \n",
              "4                                            0                         0  ...   \n",
              "...                                        ...                       ...  ...   \n",
              "10000                                        0                         0  ...   \n",
              "10001                                        0                         0  ...   \n",
              "10002                                        0                         0  ...   \n",
              "10003                                        0                         0  ...   \n",
              "10004                                        0                         0  ...   \n",
              "\n",
              "       b'zurich'  b'zxzw  b'zxzw 2008  b'zxzw 2008'  b'zydeco  b'zydeco'  \\\n",
              "0              0       0            0             0         0          0   \n",
              "1              0       0            0             0         0          0   \n",
              "2              0       0            0             0         0          0   \n",
              "3              0       0            0             0         0          0   \n",
              "4              0       0            0             0         0          0   \n",
              "...          ...     ...          ...           ...       ...        ...   \n",
              "10000          0       0            0             0         0          0   \n",
              "10001          0       0            0             0         0          0   \n",
              "10002          0       0            0             0         0          0   \n",
              "10003          0       0            0             0         0          0   \n",
              "10004          0       0            0             0         0          0   \n",
              "\n",
              "       roll\"  roll\" b'progressive rock  roll\" b'third wave ska revival  \\\n",
              "0          0                         0                               0   \n",
              "1          0                         0                               0   \n",
              "2          0                         0                               0   \n",
              "3          0                         0                               0   \n",
              "4          0                         0                               0   \n",
              "...      ...                       ...                             ...   \n",
              "10000      0                         0                               0   \n",
              "10001      0                         0                               0   \n",
              "10002      0                         0                               0   \n",
              "10003      0                         0                               0   \n",
              "10004      0                         0                               0   \n",
              "\n",
              "       roll\" b'yeah  \n",
              "0                 0  \n",
              "1                 0  \n",
              "2                 0  \n",
              "3                 0  \n",
              "4                 0  \n",
              "...             ...  \n",
              "10000             0  \n",
              "10001             0  \n",
              "10002             0  \n",
              "10003             0  \n",
              "10004             0  \n",
              "\n",
              "[10005 rows x 6732 columns]"
            ],
            "text/html": [
              "\n",
              "  <div id=\"df-9b520428-398e-4eb5-ab11-a9075a35dbea\">\n",
              "    <div class=\"colab-df-container\">\n",
              "      <div>\n",
              "<style scoped>\n",
              "    .dataframe tbody tr th:only-of-type {\n",
              "        vertical-align: middle;\n",
              "    }\n",
              "\n",
              "    .dataframe tbody tr th {\n",
              "        vertical-align: top;\n",
              "    }\n",
              "\n",
              "    .dataframe thead th {\n",
              "        text-align: right;\n",
              "    }\n",
              "</style>\n",
              "<table border=\"1\" class=\"dataframe\">\n",
              "  <thead>\n",
              "    <tr style=\"text-align: right;\">\n",
              "      <th></th>\n",
              "      <th>song_id</th>\n",
              "      <th></th>\n",
              "      <th>b\"death 'n</th>\n",
              "      <th>b\"drill'n'bass\"</th>\n",
              "      <th>b\"drill'n'bass\" b'dhr'</th>\n",
              "      <th>b\"drill'n'bass\" b'indietronica</th>\n",
              "      <th>b\"drill'n'bass\" b'monotone</th>\n",
              "      <th>b\"drill'n'bass\" b'net labels music</th>\n",
              "      <th>b\"drill'n'bass\" b'progressive metalcore</th>\n",
              "      <th>b\"drill'n'bass\" b'sample</th>\n",
              "      <th>...</th>\n",
              "      <th>b'zurich'</th>\n",
              "      <th>b'zxzw</th>\n",
              "      <th>b'zxzw 2008</th>\n",
              "      <th>b'zxzw 2008'</th>\n",
              "      <th>b'zydeco</th>\n",
              "      <th>b'zydeco'</th>\n",
              "      <th>roll\"</th>\n",
              "      <th>roll\" b'progressive rock</th>\n",
              "      <th>roll\" b'third wave ska revival</th>\n",
              "      <th>roll\" b'yeah</th>\n",
              "    </tr>\n",
              "  </thead>\n",
              "  <tbody>\n",
              "    <tr>\n",
              "      <th>0</th>\n",
              "      <td>b'SOCRUBZ12A58A7A6C3'</td>\n",
              "      <td>0</td>\n",
              "      <td>0</td>\n",
              "      <td>0</td>\n",
              "      <td>0</td>\n",
              "      <td>0</td>\n",
              "      <td>0</td>\n",
              "      <td>0</td>\n",
              "      <td>0</td>\n",
              "      <td>0</td>\n",
              "      <td>...</td>\n",
              "      <td>0</td>\n",
              "      <td>0</td>\n",
              "      <td>0</td>\n",
              "      <td>0</td>\n",
              "      <td>0</td>\n",
              "      <td>0</td>\n",
              "      <td>0</td>\n",
              "      <td>0</td>\n",
              "      <td>0</td>\n",
              "      <td>0</td>\n",
              "    </tr>\n",
              "    <tr>\n",
              "      <th>1</th>\n",
              "      <td>b'SOCHAXM12AB01876F8'</td>\n",
              "      <td>0</td>\n",
              "      <td>0</td>\n",
              "      <td>0</td>\n",
              "      <td>0</td>\n",
              "      <td>0</td>\n",
              "      <td>0</td>\n",
              "      <td>0</td>\n",
              "      <td>0</td>\n",
              "      <td>0</td>\n",
              "      <td>...</td>\n",
              "      <td>0</td>\n",
              "      <td>0</td>\n",
              "      <td>0</td>\n",
              "      <td>0</td>\n",
              "      <td>0</td>\n",
              "      <td>0</td>\n",
              "      <td>0</td>\n",
              "      <td>0</td>\n",
              "      <td>0</td>\n",
              "      <td>0</td>\n",
              "    </tr>\n",
              "    <tr>\n",
              "      <th>2</th>\n",
              "      <td>b'SOYLFWQ12A8C13DFF4'</td>\n",
              "      <td>0</td>\n",
              "      <td>0</td>\n",
              "      <td>0</td>\n",
              "      <td>0</td>\n",
              "      <td>0</td>\n",
              "      <td>0</td>\n",
              "      <td>0</td>\n",
              "      <td>0</td>\n",
              "      <td>0</td>\n",
              "      <td>...</td>\n",
              "      <td>0</td>\n",
              "      <td>0</td>\n",
              "      <td>0</td>\n",
              "      <td>0</td>\n",
              "      <td>0</td>\n",
              "      <td>0</td>\n",
              "      <td>0</td>\n",
              "      <td>0</td>\n",
              "      <td>0</td>\n",
              "      <td>0</td>\n",
              "    </tr>\n",
              "    <tr>\n",
              "      <th>3</th>\n",
              "      <td>b'SOVXNQF12A8C13075E'</td>\n",
              "      <td>0</td>\n",
              "      <td>0</td>\n",
              "      <td>0</td>\n",
              "      <td>0</td>\n",
              "      <td>0</td>\n",
              "      <td>0</td>\n",
              "      <td>0</td>\n",
              "      <td>0</td>\n",
              "      <td>0</td>\n",
              "      <td>...</td>\n",
              "      <td>0</td>\n",
              "      <td>0</td>\n",
              "      <td>0</td>\n",
              "      <td>0</td>\n",
              "      <td>0</td>\n",
              "      <td>0</td>\n",
              "      <td>0</td>\n",
              "      <td>0</td>\n",
              "      <td>0</td>\n",
              "      <td>0</td>\n",
              "    </tr>\n",
              "    <tr>\n",
              "      <th>4</th>\n",
              "      <td>b'SOTICDK12A8C13A367'</td>\n",
              "      <td>0</td>\n",
              "      <td>0</td>\n",
              "      <td>0</td>\n",
              "      <td>0</td>\n",
              "      <td>0</td>\n",
              "      <td>0</td>\n",
              "      <td>0</td>\n",
              "      <td>0</td>\n",
              "      <td>0</td>\n",
              "      <td>...</td>\n",
              "      <td>0</td>\n",
              "      <td>0</td>\n",
              "      <td>0</td>\n",
              "      <td>0</td>\n",
              "      <td>0</td>\n",
              "      <td>0</td>\n",
              "      <td>0</td>\n",
              "      <td>0</td>\n",
              "      <td>0</td>\n",
              "      <td>0</td>\n",
              "    </tr>\n",
              "    <tr>\n",
              "      <th>...</th>\n",
              "      <td>...</td>\n",
              "      <td>...</td>\n",
              "      <td>...</td>\n",
              "      <td>...</td>\n",
              "      <td>...</td>\n",
              "      <td>...</td>\n",
              "      <td>...</td>\n",
              "      <td>...</td>\n",
              "      <td>...</td>\n",
              "      <td>...</td>\n",
              "      <td>...</td>\n",
              "      <td>...</td>\n",
              "      <td>...</td>\n",
              "      <td>...</td>\n",
              "      <td>...</td>\n",
              "      <td>...</td>\n",
              "      <td>...</td>\n",
              "      <td>...</td>\n",
              "      <td>...</td>\n",
              "      <td>...</td>\n",
              "      <td>...</td>\n",
              "    </tr>\n",
              "    <tr>\n",
              "      <th>10000</th>\n",
              "      <td>b'SOEWCSS12A8C13AFFF'</td>\n",
              "      <td>0</td>\n",
              "      <td>0</td>\n",
              "      <td>0</td>\n",
              "      <td>0</td>\n",
              "      <td>0</td>\n",
              "      <td>0</td>\n",
              "      <td>0</td>\n",
              "      <td>0</td>\n",
              "      <td>0</td>\n",
              "      <td>...</td>\n",
              "      <td>0</td>\n",
              "      <td>0</td>\n",
              "      <td>0</td>\n",
              "      <td>0</td>\n",
              "      <td>0</td>\n",
              "      <td>0</td>\n",
              "      <td>0</td>\n",
              "      <td>0</td>\n",
              "      <td>0</td>\n",
              "      <td>0</td>\n",
              "    </tr>\n",
              "    <tr>\n",
              "      <th>10001</th>\n",
              "      <td>b'SOMCIPW12A8C144CA3'</td>\n",
              "      <td>0</td>\n",
              "      <td>0</td>\n",
              "      <td>0</td>\n",
              "      <td>0</td>\n",
              "      <td>0</td>\n",
              "      <td>0</td>\n",
              "      <td>0</td>\n",
              "      <td>0</td>\n",
              "      <td>0</td>\n",
              "      <td>...</td>\n",
              "      <td>0</td>\n",
              "      <td>0</td>\n",
              "      <td>0</td>\n",
              "      <td>0</td>\n",
              "      <td>0</td>\n",
              "      <td>0</td>\n",
              "      <td>0</td>\n",
              "      <td>0</td>\n",
              "      <td>0</td>\n",
              "      <td>0</td>\n",
              "    </tr>\n",
              "    <tr>\n",
              "      <th>10002</th>\n",
              "      <td>b'SOMONOL12AB01804C6'</td>\n",
              "      <td>0</td>\n",
              "      <td>0</td>\n",
              "      <td>0</td>\n",
              "      <td>0</td>\n",
              "      <td>0</td>\n",
              "      <td>0</td>\n",
              "      <td>0</td>\n",
              "      <td>0</td>\n",
              "      <td>0</td>\n",
              "      <td>...</td>\n",
              "      <td>0</td>\n",
              "      <td>0</td>\n",
              "      <td>0</td>\n",
              "      <td>0</td>\n",
              "      <td>0</td>\n",
              "      <td>0</td>\n",
              "      <td>0</td>\n",
              "      <td>0</td>\n",
              "      <td>0</td>\n",
              "      <td>0</td>\n",
              "    </tr>\n",
              "    <tr>\n",
              "      <th>10003</th>\n",
              "      <td>b'SOEJQOM12A8C13D882'</td>\n",
              "      <td>0</td>\n",
              "      <td>0</td>\n",
              "      <td>0</td>\n",
              "      <td>0</td>\n",
              "      <td>0</td>\n",
              "      <td>0</td>\n",
              "      <td>0</td>\n",
              "      <td>0</td>\n",
              "      <td>0</td>\n",
              "      <td>...</td>\n",
              "      <td>0</td>\n",
              "      <td>0</td>\n",
              "      <td>0</td>\n",
              "      <td>0</td>\n",
              "      <td>0</td>\n",
              "      <td>0</td>\n",
              "      <td>0</td>\n",
              "      <td>0</td>\n",
              "      <td>0</td>\n",
              "      <td>0</td>\n",
              "    </tr>\n",
              "    <tr>\n",
              "      <th>10004</th>\n",
              "      <td>b'SORBRJO12A8C13F0BC'</td>\n",
              "      <td>0</td>\n",
              "      <td>0</td>\n",
              "      <td>0</td>\n",
              "      <td>0</td>\n",
              "      <td>0</td>\n",
              "      <td>0</td>\n",
              "      <td>0</td>\n",
              "      <td>0</td>\n",
              "      <td>0</td>\n",
              "      <td>...</td>\n",
              "      <td>0</td>\n",
              "      <td>0</td>\n",
              "      <td>0</td>\n",
              "      <td>0</td>\n",
              "      <td>0</td>\n",
              "      <td>0</td>\n",
              "      <td>0</td>\n",
              "      <td>0</td>\n",
              "      <td>0</td>\n",
              "      <td>0</td>\n",
              "    </tr>\n",
              "  </tbody>\n",
              "</table>\n",
              "<p>10005 rows × 6732 columns</p>\n",
              "</div>\n",
              "      <button class=\"colab-df-convert\" onclick=\"convertToInteractive('df-9b520428-398e-4eb5-ab11-a9075a35dbea')\"\n",
              "              title=\"Convert this dataframe to an interactive table.\"\n",
              "              style=\"display:none;\">\n",
              "        \n",
              "  <svg xmlns=\"http://www.w3.org/2000/svg\" height=\"24px\"viewBox=\"0 0 24 24\"\n",
              "       width=\"24px\">\n",
              "    <path d=\"M0 0h24v24H0V0z\" fill=\"none\"/>\n",
              "    <path d=\"M18.56 5.44l.94 2.06.94-2.06 2.06-.94-2.06-.94-.94-2.06-.94 2.06-2.06.94zm-11 1L8.5 8.5l.94-2.06 2.06-.94-2.06-.94L8.5 2.5l-.94 2.06-2.06.94zm10 10l.94 2.06.94-2.06 2.06-.94-2.06-.94-.94-2.06-.94 2.06-2.06.94z\"/><path d=\"M17.41 7.96l-1.37-1.37c-.4-.4-.92-.59-1.43-.59-.52 0-1.04.2-1.43.59L10.3 9.45l-7.72 7.72c-.78.78-.78 2.05 0 2.83L4 21.41c.39.39.9.59 1.41.59.51 0 1.02-.2 1.41-.59l7.78-7.78 2.81-2.81c.8-.78.8-2.07 0-2.86zM5.41 20L4 18.59l7.72-7.72 1.47 1.35L5.41 20z\"/>\n",
              "  </svg>\n",
              "      </button>\n",
              "      \n",
              "  <style>\n",
              "    .colab-df-container {\n",
              "      display:flex;\n",
              "      flex-wrap:wrap;\n",
              "      gap: 12px;\n",
              "    }\n",
              "\n",
              "    .colab-df-convert {\n",
              "      background-color: #E8F0FE;\n",
              "      border: none;\n",
              "      border-radius: 50%;\n",
              "      cursor: pointer;\n",
              "      display: none;\n",
              "      fill: #1967D2;\n",
              "      height: 32px;\n",
              "      padding: 0 0 0 0;\n",
              "      width: 32px;\n",
              "    }\n",
              "\n",
              "    .colab-df-convert:hover {\n",
              "      background-color: #E2EBFA;\n",
              "      box-shadow: 0px 1px 2px rgba(60, 64, 67, 0.3), 0px 1px 3px 1px rgba(60, 64, 67, 0.15);\n",
              "      fill: #174EA6;\n",
              "    }\n",
              "\n",
              "    [theme=dark] .colab-df-convert {\n",
              "      background-color: #3B4455;\n",
              "      fill: #D2E3FC;\n",
              "    }\n",
              "\n",
              "    [theme=dark] .colab-df-convert:hover {\n",
              "      background-color: #434B5C;\n",
              "      box-shadow: 0px 1px 3px 1px rgba(0, 0, 0, 0.15);\n",
              "      filter: drop-shadow(0px 1px 2px rgba(0, 0, 0, 0.3));\n",
              "      fill: #FFFFFF;\n",
              "    }\n",
              "  </style>\n",
              "\n",
              "      <script>\n",
              "        const buttonEl =\n",
              "          document.querySelector('#df-9b520428-398e-4eb5-ab11-a9075a35dbea button.colab-df-convert');\n",
              "        buttonEl.style.display =\n",
              "          google.colab.kernel.accessAllowed ? 'block' : 'none';\n",
              "\n",
              "        async function convertToInteractive(key) {\n",
              "          const element = document.querySelector('#df-9b520428-398e-4eb5-ab11-a9075a35dbea');\n",
              "          const dataTable =\n",
              "            await google.colab.kernel.invokeFunction('convertToInteractive',\n",
              "                                                     [key], {});\n",
              "          if (!dataTable) return;\n",
              "\n",
              "          const docLinkHtml = 'Like what you see? Visit the ' +\n",
              "            '<a target=\"_blank\" href=https://colab.research.google.com/notebooks/data_table.ipynb>data table notebook</a>'\n",
              "            + ' to learn more about interactive tables.';\n",
              "          element.innerHTML = '';\n",
              "          dataTable['output_type'] = 'display_data';\n",
              "          await google.colab.output.renderOutput(dataTable, element);\n",
              "          const docLink = document.createElement('div');\n",
              "          docLink.innerHTML = docLinkHtml;\n",
              "          element.appendChild(docLink);\n",
              "        }\n",
              "      </script>\n",
              "    </div>\n",
              "  </div>\n",
              "  "
            ]
          },
          "metadata": {},
          "execution_count": 53
        }
      ]
    },
    {
      "cell_type": "code",
      "source": [
        ""
      ],
      "metadata": {
        "id": "Yh9J27FVWVkW"
      },
      "id": "Yh9J27FVWVkW",
      "execution_count": null,
      "outputs": []
    },
    {
      "cell_type": "code",
      "source": [
        "x_train = x_train[x_train.columns[2:]]"
      ],
      "metadata": {
        "id": "ubvmMpXsAPx2"
      },
      "id": "ubvmMpXsAPx2",
      "execution_count": null,
      "outputs": []
    },
    {
      "cell_type": "code",
      "source": [
        "x_train.columns"
      ],
      "metadata": {
        "colab": {
          "base_uri": "https://localhost:8080/"
        },
        "id": "nP3fWKZKRkVO",
        "outputId": "fa66f125-4377-4cf2-efc6-8496605041b1"
      },
      "id": "nP3fWKZKRkVO",
      "execution_count": null,
      "outputs": [
        {
          "output_type": "execute_result",
          "data": {
            "text/plain": [
              "Index(['b\"death 'n', 'b\"drill'n'bass\"', 'b\"drill'n'bass\" b'dhr'',\n",
              "       'b\"drill'n'bass\" b'indietronica', 'b\"drill'n'bass\" b'monotone',\n",
              "       'b\"drill'n'bass\" b'net labels music',\n",
              "       'b\"drill'n'bass\" b'progressive metalcore', 'b\"drill'n'bass\" b'sample',\n",
              "       'b\"rock 'n roll\" b'00s', 'b\"rock 'n roll\" b'60s',\n",
              "       ...\n",
              "       'b'zurich'', 'b'zxzw', 'b'zxzw 2008', 'b'zxzw 2008'', 'b'zydeco',\n",
              "       'b'zydeco'', 'roll\"', 'roll\" b'progressive rock',\n",
              "       'roll\" b'third wave ska revival', 'roll\" b'yeah'],\n",
              "      dtype='object', length=6730)"
            ]
          },
          "metadata": {},
          "execution_count": 55
        }
      ]
    },
    {
      "cell_type": "code",
      "source": [
        "x_train = x_train.to_numpy(dtype = np.float32)\n",
        "x_train.shape"
      ],
      "metadata": {
        "colab": {
          "base_uri": "https://localhost:8080/"
        },
        "id": "wHDX4pLjO-Ws",
        "outputId": "7763c465-7e38-4304-c32f-dfdcadf59a47"
      },
      "id": "wHDX4pLjO-Ws",
      "execution_count": null,
      "outputs": [
        {
          "output_type": "execute_result",
          "data": {
            "text/plain": [
              "(10005, 6730)"
            ]
          },
          "metadata": {},
          "execution_count": 56
        }
      ]
    },
    {
      "cell_type": "code",
      "source": [
        "x_train"
      ],
      "metadata": {
        "colab": {
          "base_uri": "https://localhost:8080/"
        },
        "id": "yCwQ0TyPxjwh",
        "outputId": "40264c08-d231-4be3-d7b4-78b359551574"
      },
      "id": "yCwQ0TyPxjwh",
      "execution_count": null,
      "outputs": [
        {
          "output_type": "execute_result",
          "data": {
            "text/plain": [
              "array([[0., 0., 0., ..., 0., 0., 0.],\n",
              "       [0., 0., 0., ..., 0., 0., 0.],\n",
              "       [0., 0., 0., ..., 0., 0., 0.],\n",
              "       ...,\n",
              "       [0., 0., 0., ..., 0., 0., 0.],\n",
              "       [0., 0., 0., ..., 0., 0., 0.],\n",
              "       [0., 0., 0., ..., 0., 0., 0.]], dtype=float32)"
            ]
          },
          "metadata": {},
          "execution_count": 57
        }
      ]
    },
    {
      "cell_type": "code",
      "source": [
        "weights = np.load('/content/drive/MyDrive/MSD/cos_weights.npy')"
      ],
      "metadata": {
        "id": "iKUSNZiowJlx"
      },
      "id": "iKUSNZiowJlx",
      "execution_count": null,
      "outputs": []
    },
    {
      "cell_type": "code",
      "source": [
        "x_train = np.multiply(x_train, weights.T)"
      ],
      "metadata": {
        "id": "_iVa3ZrSxJeR"
      },
      "id": "_iVa3ZrSxJeR",
      "execution_count": null,
      "outputs": []
    },
    {
      "cell_type": "code",
      "source": [
        "x_train.shape"
      ],
      "metadata": {
        "colab": {
          "base_uri": "https://localhost:8080/"
        },
        "id": "OZMHdvFQxdY1",
        "outputId": "d7751d2b-c731-4f81-9f34-96929c5eff0c"
      },
      "id": "OZMHdvFQxdY1",
      "execution_count": null,
      "outputs": [
        {
          "output_type": "execute_result",
          "data": {
            "text/plain": [
              "(10000, 1000)"
            ]
          },
          "metadata": {},
          "execution_count": 35
        }
      ]
    },
    {
      "cell_type": "code",
      "source": [
        ""
      ],
      "metadata": {
        "id": "bcrQCjXDyWEI"
      },
      "id": "bcrQCjXDyWEI",
      "execution_count": null,
      "outputs": []
    },
    {
      "cell_type": "code",
      "source": [
        "x_train_set = x_train[:9000,:]\n",
        "x_test_set = x_train[9000:,:]"
      ],
      "metadata": {
        "id": "H_bAI3FbO-L7"
      },
      "id": "H_bAI3FbO-L7",
      "execution_count": null,
      "outputs": []
    },
    {
      "cell_type": "code",
      "source": [
        "x_train_set.shape"
      ],
      "metadata": {
        "colab": {
          "base_uri": "https://localhost:8080/"
        },
        "id": "1Cx5-crDO-I6",
        "outputId": "90f3d049-edc0-4c0a-d500-9e7cb633e22d"
      },
      "id": "1Cx5-crDO-I6",
      "execution_count": null,
      "outputs": [
        {
          "output_type": "execute_result",
          "data": {
            "text/plain": [
              "(9000, 6730)"
            ]
          },
          "metadata": {},
          "execution_count": 59
        }
      ]
    },
    {
      "cell_type": "code",
      "source": [
        "x_test_set.shape"
      ],
      "metadata": {
        "colab": {
          "base_uri": "https://localhost:8080/"
        },
        "id": "4Ws15myJO-Dz",
        "outputId": "26929fbc-61a2-4d08-d1d9-b0c359cd0e8a"
      },
      "id": "4Ws15myJO-Dz",
      "execution_count": null,
      "outputs": [
        {
          "output_type": "execute_result",
          "data": {
            "text/plain": [
              "(1005, 6730)"
            ]
          },
          "metadata": {},
          "execution_count": 60
        }
      ]
    },
    {
      "cell_type": "code",
      "source": [
        ""
      ],
      "metadata": {
        "id": "mlOfPBg3O983"
      },
      "id": "mlOfPBg3O983",
      "execution_count": null,
      "outputs": []
    },
    {
      "cell_type": "code",
      "metadata": {
        "colab": {
          "base_uri": "https://localhost:8080/"
        },
        "id": "DZk-grB_q0n9",
        "outputId": "ffb3406d-9c29-4212-908d-8bd82993c50f"
      },
      "source": [
        "#Autoencoder architecture \n",
        "\n",
        "model = Sequential()\n",
        "\n",
        "input_shape = keras.Input(shape=(6730, ))\n",
        "\n",
        "#Encoder\n",
        "#e = layers.Dense(1024, activation='relu')(input_shape)\n",
        "\n",
        "e = layers.Dense(786, activation='relu')(input_shape)\n",
        "\n",
        "e = layers.Dense(512, activation='relu')(e)\n",
        "#e = layers.Dropout(0.5)\n",
        "e = layers.Dense(256, activation='relu')(e)\n",
        "e = layers.Dropout(0.5)(e)\n",
        "e = layers.Dense(128, activation='relu')(e)\n",
        "e = layers.Dropout(0.5)(e)\n",
        "e = layers.Dense(64, activation='relu')(e)\n",
        "e = layers.Dropout(0.5)(e)\n",
        "e = layers.Dense(32, activation='relu', name = 'encoded')(e)\n",
        "#e = layers.MaxPooling2D((2, 2), padding='same', name = 'encoded')(e)\n",
        "\n",
        "\n",
        "d = layers.Dense(64, activation='relu')(e)\n",
        "d = layers.Dropout(0.5)(d)\n",
        "#d = layers.UpSampling2D((2, 2))(d)\n",
        "d = layers.Dense(128, activation='relu')(d)\n",
        "d = layers.Dropout(0.5)(d)\n",
        "#d = layers.UpSampling2D((2, 2))(d)\n",
        "d = layers.Dense(256, activation='relu')(d)\n",
        "d = layers.Dropout(0.5)(d)\n",
        "#d = layers.UpSampling2D((2, 2))(d)\n",
        "d = layers.Dense(512, activation='relu')(d)\n",
        "d = layers.Dropout(0.5)(d)\n",
        "d = layers.Dense(786, activation='relu')(d)\n",
        "d = layers.Dense(6730, activation='relu')(d)\n",
        "\n",
        "\n",
        "\n",
        "\n",
        "autoencoder = keras.Model(input_shape, d)\n",
        "autoencoder.compile(optimizer='adam', loss=tf.keras.losses.MeanSquaredError())\n",
        "print(autoencoder.summary())\n",
        "\n",
        "#Extracting latent variables\n",
        "layer_name = 'encoded'\n",
        "intermediate_layer_model = keras.Model(inputs = autoencoder.input, outputs=autoencoder.get_layer(layer_name).output)\n",
        "intermediate_output = intermediate_layer_model(x_train)\n",
        "\n"
      ],
      "id": "DZk-grB_q0n9",
      "execution_count": null,
      "outputs": [
        {
          "output_type": "stream",
          "name": "stdout",
          "text": [
            "Model: \"model_4\"\n",
            "_________________________________________________________________\n",
            " Layer (type)                Output Shape              Param #   \n",
            "=================================================================\n",
            " input_3 (InputLayer)        [(None, 6730)]            0         \n",
            "                                                                 \n",
            " dense_22 (Dense)            (None, 786)               5290566   \n",
            "                                                                 \n",
            " dense_23 (Dense)            (None, 512)               402944    \n",
            "                                                                 \n",
            " dense_24 (Dense)            (None, 256)               131328    \n",
            "                                                                 \n",
            " dropout_14 (Dropout)        (None, 256)               0         \n",
            "                                                                 \n",
            " dense_25 (Dense)            (None, 128)               32896     \n",
            "                                                                 \n",
            " dropout_15 (Dropout)        (None, 128)               0         \n",
            "                                                                 \n",
            " dense_26 (Dense)            (None, 64)                8256      \n",
            "                                                                 \n",
            " dropout_16 (Dropout)        (None, 64)                0         \n",
            "                                                                 \n",
            " encoded (Dense)             (None, 32)                2080      \n",
            "                                                                 \n",
            " dense_27 (Dense)            (None, 64)                2112      \n",
            "                                                                 \n",
            " dropout_17 (Dropout)        (None, 64)                0         \n",
            "                                                                 \n",
            " dense_28 (Dense)            (None, 128)               8320      \n",
            "                                                                 \n",
            " dropout_18 (Dropout)        (None, 128)               0         \n",
            "                                                                 \n",
            " dense_29 (Dense)            (None, 256)               33024     \n",
            "                                                                 \n",
            " dropout_19 (Dropout)        (None, 256)               0         \n",
            "                                                                 \n",
            " dense_30 (Dense)            (None, 512)               131584    \n",
            "                                                                 \n",
            " dropout_20 (Dropout)        (None, 512)               0         \n",
            "                                                                 \n",
            " dense_31 (Dense)            (None, 786)               403218    \n",
            "                                                                 \n",
            " dense_32 (Dense)            (None, 6730)              5296510   \n",
            "                                                                 \n",
            "=================================================================\n",
            "Total params: 11,742,838\n",
            "Trainable params: 11,742,838\n",
            "Non-trainable params: 0\n",
            "_________________________________________________________________\n",
            "None\n"
          ]
        }
      ]
    },
    {
      "cell_type": "code",
      "metadata": {
        "colab": {
          "base_uri": "https://localhost:8080/"
        },
        "id": "Bfd1EAt-q07u",
        "outputId": "68ce4267-3b59-49d0-8bdc-50d0cbf63f81"
      },
      "source": [
        "autoencoder.fit(x_train_set, x_train_set,\n",
        "                epochs=50,\n",
        "                batch_size=64,\n",
        "                shuffle=True,\n",
        "                validation_data=(x_test_set, x_test_set))"
      ],
      "id": "Bfd1EAt-q07u",
      "execution_count": null,
      "outputs": [
        {
          "output_type": "stream",
          "name": "stdout",
          "text": [
            "Epoch 1/50\n",
            "141/141 [==============================] - 2s 8ms/step - loss: 0.0037 - val_loss: 0.0036\n",
            "Epoch 2/50\n",
            "141/141 [==============================] - 1s 5ms/step - loss: 0.0035 - val_loss: 0.0037\n",
            "Epoch 3/50\n",
            "141/141 [==============================] - 1s 5ms/step - loss: 0.0035 - val_loss: 0.0036\n",
            "Epoch 4/50\n",
            "141/141 [==============================] - 1s 5ms/step - loss: 0.0035 - val_loss: 0.0036\n",
            "Epoch 5/50\n",
            "141/141 [==============================] - 1s 5ms/step - loss: 0.0035 - val_loss: 0.0037\n",
            "Epoch 6/50\n",
            "141/141 [==============================] - 1s 5ms/step - loss: 0.0035 - val_loss: 0.0037\n",
            "Epoch 7/50\n",
            "141/141 [==============================] - 1s 5ms/step - loss: 0.0035 - val_loss: 0.0037\n",
            "Epoch 8/50\n",
            "141/141 [==============================] - 1s 5ms/step - loss: 0.0035 - val_loss: 0.0036\n",
            "Epoch 9/50\n",
            "141/141 [==============================] - 1s 5ms/step - loss: 0.0034 - val_loss: 0.0037\n",
            "Epoch 10/50\n",
            "141/141 [==============================] - 1s 5ms/step - loss: 0.0034 - val_loss: 0.0037\n",
            "Epoch 11/50\n",
            "141/141 [==============================] - 1s 5ms/step - loss: 0.0034 - val_loss: 0.0036\n",
            "Epoch 12/50\n",
            "141/141 [==============================] - 1s 5ms/step - loss: 0.0034 - val_loss: 0.0037\n",
            "Epoch 13/50\n",
            "141/141 [==============================] - 1s 5ms/step - loss: 0.0034 - val_loss: 0.0037\n",
            "Epoch 14/50\n",
            "141/141 [==============================] - 1s 5ms/step - loss: 0.0034 - val_loss: 0.0037\n",
            "Epoch 15/50\n",
            "141/141 [==============================] - 1s 5ms/step - loss: 0.0034 - val_loss: 0.0036\n",
            "Epoch 16/50\n",
            "141/141 [==============================] - 1s 5ms/step - loss: 0.0034 - val_loss: 0.0037\n",
            "Epoch 17/50\n",
            "141/141 [==============================] - 1s 5ms/step - loss: 0.0034 - val_loss: 0.0037\n",
            "Epoch 18/50\n",
            "141/141 [==============================] - 1s 5ms/step - loss: 0.0034 - val_loss: 0.0037\n",
            "Epoch 19/50\n",
            "141/141 [==============================] - 1s 5ms/step - loss: 0.0034 - val_loss: 0.0037\n",
            "Epoch 20/50\n",
            "141/141 [==============================] - 1s 5ms/step - loss: 0.0034 - val_loss: 0.0037\n",
            "Epoch 21/50\n",
            "141/141 [==============================] - 1s 5ms/step - loss: 0.0034 - val_loss: 0.0037\n",
            "Epoch 22/50\n",
            "141/141 [==============================] - 1s 5ms/step - loss: 0.0034 - val_loss: 0.0037\n",
            "Epoch 23/50\n",
            "141/141 [==============================] - 1s 5ms/step - loss: 0.0034 - val_loss: 0.0037\n",
            "Epoch 24/50\n",
            "141/141 [==============================] - 1s 5ms/step - loss: 0.0034 - val_loss: 0.0037\n",
            "Epoch 25/50\n",
            "141/141 [==============================] - 1s 5ms/step - loss: 0.0034 - val_loss: 0.0037\n",
            "Epoch 26/50\n",
            "141/141 [==============================] - 1s 5ms/step - loss: 0.0034 - val_loss: 0.0037\n",
            "Epoch 27/50\n",
            "141/141 [==============================] - 1s 5ms/step - loss: 0.0034 - val_loss: 0.0037\n",
            "Epoch 28/50\n",
            "141/141 [==============================] - 1s 5ms/step - loss: 0.0034 - val_loss: 0.0037\n",
            "Epoch 29/50\n",
            "141/141 [==============================] - 1s 5ms/step - loss: 0.0034 - val_loss: 0.0037\n",
            "Epoch 30/50\n",
            "141/141 [==============================] - 1s 5ms/step - loss: 0.0034 - val_loss: 0.0037\n",
            "Epoch 31/50\n",
            "141/141 [==============================] - 1s 5ms/step - loss: 0.0034 - val_loss: 0.0037\n",
            "Epoch 32/50\n",
            "141/141 [==============================] - 1s 5ms/step - loss: 0.0033 - val_loss: 0.0037\n",
            "Epoch 33/50\n",
            "141/141 [==============================] - 1s 5ms/step - loss: 0.0033 - val_loss: 0.0037\n",
            "Epoch 34/50\n",
            "141/141 [==============================] - 1s 5ms/step - loss: 0.0033 - val_loss: 0.0037\n",
            "Epoch 35/50\n",
            "141/141 [==============================] - 1s 5ms/step - loss: 0.0033 - val_loss: 0.0037\n",
            "Epoch 36/50\n",
            "141/141 [==============================] - 1s 5ms/step - loss: 0.0033 - val_loss: 0.0037\n",
            "Epoch 37/50\n",
            "141/141 [==============================] - 1s 5ms/step - loss: 0.0033 - val_loss: 0.0037\n",
            "Epoch 38/50\n",
            "141/141 [==============================] - 1s 5ms/step - loss: 0.0033 - val_loss: 0.0037\n",
            "Epoch 39/50\n",
            "141/141 [==============================] - 1s 5ms/step - loss: 0.0033 - val_loss: 0.0037\n",
            "Epoch 40/50\n",
            "141/141 [==============================] - 1s 5ms/step - loss: 0.0033 - val_loss: 0.0037\n",
            "Epoch 41/50\n",
            "141/141 [==============================] - 1s 5ms/step - loss: 0.0033 - val_loss: 0.0037\n",
            "Epoch 42/50\n",
            "141/141 [==============================] - 1s 5ms/step - loss: 0.0033 - val_loss: 0.0037\n",
            "Epoch 43/50\n",
            "141/141 [==============================] - 1s 5ms/step - loss: 0.0033 - val_loss: 0.0037\n",
            "Epoch 44/50\n",
            "141/141 [==============================] - 1s 5ms/step - loss: 0.0033 - val_loss: 0.0037\n",
            "Epoch 45/50\n",
            "141/141 [==============================] - 1s 5ms/step - loss: 0.0033 - val_loss: 0.0037\n",
            "Epoch 46/50\n",
            "141/141 [==============================] - 1s 5ms/step - loss: 0.0033 - val_loss: 0.0037\n",
            "Epoch 47/50\n",
            "141/141 [==============================] - 1s 5ms/step - loss: 0.0033 - val_loss: 0.0037\n",
            "Epoch 48/50\n",
            "141/141 [==============================] - 1s 5ms/step - loss: 0.0033 - val_loss: 0.0037\n",
            "Epoch 49/50\n",
            "141/141 [==============================] - 1s 5ms/step - loss: 0.0033 - val_loss: 0.0037\n",
            "Epoch 50/50\n",
            "141/141 [==============================] - 1s 5ms/step - loss: 0.0033 - val_loss: 0.0037\n"
          ]
        },
        {
          "output_type": "execute_result",
          "data": {
            "text/plain": [
              "<keras.callbacks.History at 0x7f9ca6582f50>"
            ]
          },
          "metadata": {},
          "execution_count": 62
        }
      ]
    },
    {
      "cell_type": "code",
      "metadata": {
        "colab": {
          "base_uri": "https://localhost:8080/"
        },
        "id": "t6FbuBLkq1Nl",
        "outputId": "658fc841-ec74-47e7-a9ee-368a9df1e201"
      },
      "source": [
        "print(type(intermediate_output))\n",
        "print(len(intermediate_output))\n",
        "print(intermediate_output[1].shape)"
      ],
      "id": "t6FbuBLkq1Nl",
      "execution_count": null,
      "outputs": [
        {
          "output_type": "stream",
          "name": "stdout",
          "text": [
            "<class 'tensorflow.python.framework.ops.EagerTensor'>\n",
            "10005\n",
            "(32,)\n"
          ]
        }
      ]
    },
    {
      "cell_type": "code",
      "metadata": {
        "colab": {
          "base_uri": "https://localhost:8080/"
        },
        "id": "a9C3R6Lkq1ch",
        "outputId": "3e8100ba-d3c2-4212-92ee-3db2260c7b19"
      },
      "source": [
        "autoencoder.save('/content/autoencoder_3_final/history')"
      ],
      "id": "a9C3R6Lkq1ch",
      "execution_count": null,
      "outputs": [
        {
          "output_type": "stream",
          "name": "stdout",
          "text": [
            "INFO:tensorflow:Assets written to: /content/autoencoder_3_final/history/assets\n"
          ]
        }
      ]
    },
    {
      "cell_type": "code",
      "source": [
        "embeddings = intermediate_output.numpy()"
      ],
      "metadata": {
        "id": "3MQyiac0iAnM"
      },
      "id": "3MQyiac0iAnM",
      "execution_count": null,
      "outputs": []
    },
    {
      "cell_type": "code",
      "source": [
        "embeddings.shape"
      ],
      "metadata": {
        "colab": {
          "base_uri": "https://localhost:8080/"
        },
        "id": "DMOciutUisSL",
        "outputId": "4d1de561-0f03-4525-8e0d-d7b71a99c78e"
      },
      "id": "DMOciutUisSL",
      "execution_count": null,
      "outputs": [
        {
          "output_type": "execute_result",
          "data": {
            "text/plain": [
              "(10005, 32)"
            ]
          },
          "metadata": {},
          "execution_count": 66
        }
      ]
    },
    {
      "cell_type": "code",
      "source": [
        "embeddings_pd = pd.DataFrame(embeddings)"
      ],
      "metadata": {
        "id": "OgcXr2Uvkev6"
      },
      "id": "OgcXr2Uvkev6",
      "execution_count": null,
      "outputs": []
    },
    {
      "cell_type": "code",
      "source": [
        "embeddings_pd['song_id'] = x_train['song_id']"
      ],
      "metadata": {
        "id": "Th-YYAGdkq3p"
      },
      "id": "Th-YYAGdkq3p",
      "execution_count": null,
      "outputs": []
    },
    {
      "cell_type": "code",
      "source": [
        "embeddings_pd.to_pickle('/content/drive/MyDrive/MSD/artist_terms_embeddings_matrix.pkl')"
      ],
      "metadata": {
        "id": "SF69J-5Lk8Cb"
      },
      "id": "SF69J-5Lk8Cb",
      "execution_count": null,
      "outputs": []
    },
    {
      "cell_type": "code",
      "source": [
        "embeddings_pd"
      ],
      "metadata": {
        "colab": {
          "base_uri": "https://localhost:8080/",
          "height": 424
        },
        "id": "cgech_C_zwjK",
        "outputId": "3c9c8622-ee12-4d10-ebed-8e48ab11d414"
      },
      "id": "cgech_C_zwjK",
      "execution_count": null,
      "outputs": [
        {
          "output_type": "execute_result",
          "data": {
            "text/plain": [
              "             0         1         2    3    4    5    6    7    8         9  \\\n",
              "0     0.071865  0.146462  0.099309  0.0  0.0  0.0  0.0  0.0  0.0  0.017510   \n",
              "1     0.000000  0.000000  0.056479  0.0  0.0  0.0  0.0  0.0  0.0  0.000000   \n",
              "2     0.000000  0.120326  0.083073  0.0  0.0  0.0  0.0  0.0  0.0  0.028034   \n",
              "3     0.004771  0.000000  0.135602  0.0  0.0  0.0  0.0  0.0  0.0  0.053340   \n",
              "4     0.000000  0.089966  0.042336  0.0  0.0  0.0  0.0  0.0  0.0  0.107978   \n",
              "...        ...       ...       ...  ...  ...  ...  ...  ...  ...       ...   \n",
              "9995  0.018078  0.000303  0.087436  0.0  0.0  0.0  0.0  0.0  0.0  0.063134   \n",
              "9996  0.023799  0.000000  0.154472  0.0  0.0  0.0  0.0  0.0  0.0  0.000000   \n",
              "9997  0.021132  0.000000  0.132676  0.0  0.0  0.0  0.0  0.0  0.0  0.044222   \n",
              "9998  0.022062  0.017326  0.058560  0.0  0.0  0.0  0.0  0.0  0.0  0.031393   \n",
              "9999  0.000000  0.046915  0.187862  0.0  0.0  0.0  0.0  0.0  0.0  0.059647   \n",
              "\n",
              "      ...        23        24        25        26   27        28        29  \\\n",
              "0     ...  0.062182  0.157464  0.039663  0.166099  0.0  0.136595  0.157604   \n",
              "1     ...  0.000000  0.002915  0.100579  0.022586  0.0  0.187963  0.221871   \n",
              "2     ...  0.000000  0.090546  0.011633  0.309717  0.0  0.237197  0.211936   \n",
              "3     ...  0.000000  0.175342  0.108057  0.185343  0.0  0.209194  0.247692   \n",
              "4     ...  0.000000  0.109960  0.141078  0.187198  0.0  0.282225  0.159585   \n",
              "...   ...       ...       ...       ...       ...  ...       ...       ...   \n",
              "9995  ...  0.000000  0.152046  0.054177  0.186511  0.0  0.135987  0.190105   \n",
              "9996  ...  0.000000  0.030065  0.046729  0.185681  0.0  0.232341  0.165357   \n",
              "9997  ...  0.000000  0.144242  0.000000  0.091493  0.0  0.179120  0.175604   \n",
              "9998  ...  0.000000  0.000000  0.156604  0.176791  0.0  0.117625  0.203728   \n",
              "9999  ...  0.000000  0.038937  0.066810  0.173742  0.0  0.159091  0.166275   \n",
              "\n",
              "       30        31                song_id  \n",
              "0     0.0  0.258377  b'SOCRUBZ12A58A7A6C3'  \n",
              "1     0.0  0.273653  b'SOCHAXM12AB01876F8'  \n",
              "2     0.0  0.268567  b'SOYLFWQ12A8C13DFF4'  \n",
              "3     0.0  0.213322  b'SOVXNQF12A8C13075E'  \n",
              "4     0.0  0.284263  b'SOTICDK12A8C13A367'  \n",
              "...   ...       ...                    ...  \n",
              "9995  0.0  0.272392  b'SOEWCSS12A8C13AFFF'  \n",
              "9996  0.0  0.228144  b'SOMCIPW12A8C144CA3'  \n",
              "9997  0.0  0.263317  b'SOMONOL12AB01804C6'  \n",
              "9998  0.0  0.172650  b'SOEJQOM12A8C13D882'  \n",
              "9999  0.0  0.242276  b'SORBRJO12A8C13F0BC'  \n",
              "\n",
              "[10000 rows x 33 columns]"
            ],
            "text/html": [
              "\n",
              "  <div id=\"df-86af35db-822d-4f70-a687-31762c225ef6\">\n",
              "    <div class=\"colab-df-container\">\n",
              "      <div>\n",
              "<style scoped>\n",
              "    .dataframe tbody tr th:only-of-type {\n",
              "        vertical-align: middle;\n",
              "    }\n",
              "\n",
              "    .dataframe tbody tr th {\n",
              "        vertical-align: top;\n",
              "    }\n",
              "\n",
              "    .dataframe thead th {\n",
              "        text-align: right;\n",
              "    }\n",
              "</style>\n",
              "<table border=\"1\" class=\"dataframe\">\n",
              "  <thead>\n",
              "    <tr style=\"text-align: right;\">\n",
              "      <th></th>\n",
              "      <th>0</th>\n",
              "      <th>1</th>\n",
              "      <th>2</th>\n",
              "      <th>3</th>\n",
              "      <th>4</th>\n",
              "      <th>5</th>\n",
              "      <th>6</th>\n",
              "      <th>7</th>\n",
              "      <th>8</th>\n",
              "      <th>9</th>\n",
              "      <th>...</th>\n",
              "      <th>23</th>\n",
              "      <th>24</th>\n",
              "      <th>25</th>\n",
              "      <th>26</th>\n",
              "      <th>27</th>\n",
              "      <th>28</th>\n",
              "      <th>29</th>\n",
              "      <th>30</th>\n",
              "      <th>31</th>\n",
              "      <th>song_id</th>\n",
              "    </tr>\n",
              "  </thead>\n",
              "  <tbody>\n",
              "    <tr>\n",
              "      <th>0</th>\n",
              "      <td>0.071865</td>\n",
              "      <td>0.146462</td>\n",
              "      <td>0.099309</td>\n",
              "      <td>0.0</td>\n",
              "      <td>0.0</td>\n",
              "      <td>0.0</td>\n",
              "      <td>0.0</td>\n",
              "      <td>0.0</td>\n",
              "      <td>0.0</td>\n",
              "      <td>0.017510</td>\n",
              "      <td>...</td>\n",
              "      <td>0.062182</td>\n",
              "      <td>0.157464</td>\n",
              "      <td>0.039663</td>\n",
              "      <td>0.166099</td>\n",
              "      <td>0.0</td>\n",
              "      <td>0.136595</td>\n",
              "      <td>0.157604</td>\n",
              "      <td>0.0</td>\n",
              "      <td>0.258377</td>\n",
              "      <td>b'SOCRUBZ12A58A7A6C3'</td>\n",
              "    </tr>\n",
              "    <tr>\n",
              "      <th>1</th>\n",
              "      <td>0.000000</td>\n",
              "      <td>0.000000</td>\n",
              "      <td>0.056479</td>\n",
              "      <td>0.0</td>\n",
              "      <td>0.0</td>\n",
              "      <td>0.0</td>\n",
              "      <td>0.0</td>\n",
              "      <td>0.0</td>\n",
              "      <td>0.0</td>\n",
              "      <td>0.000000</td>\n",
              "      <td>...</td>\n",
              "      <td>0.000000</td>\n",
              "      <td>0.002915</td>\n",
              "      <td>0.100579</td>\n",
              "      <td>0.022586</td>\n",
              "      <td>0.0</td>\n",
              "      <td>0.187963</td>\n",
              "      <td>0.221871</td>\n",
              "      <td>0.0</td>\n",
              "      <td>0.273653</td>\n",
              "      <td>b'SOCHAXM12AB01876F8'</td>\n",
              "    </tr>\n",
              "    <tr>\n",
              "      <th>2</th>\n",
              "      <td>0.000000</td>\n",
              "      <td>0.120326</td>\n",
              "      <td>0.083073</td>\n",
              "      <td>0.0</td>\n",
              "      <td>0.0</td>\n",
              "      <td>0.0</td>\n",
              "      <td>0.0</td>\n",
              "      <td>0.0</td>\n",
              "      <td>0.0</td>\n",
              "      <td>0.028034</td>\n",
              "      <td>...</td>\n",
              "      <td>0.000000</td>\n",
              "      <td>0.090546</td>\n",
              "      <td>0.011633</td>\n",
              "      <td>0.309717</td>\n",
              "      <td>0.0</td>\n",
              "      <td>0.237197</td>\n",
              "      <td>0.211936</td>\n",
              "      <td>0.0</td>\n",
              "      <td>0.268567</td>\n",
              "      <td>b'SOYLFWQ12A8C13DFF4'</td>\n",
              "    </tr>\n",
              "    <tr>\n",
              "      <th>3</th>\n",
              "      <td>0.004771</td>\n",
              "      <td>0.000000</td>\n",
              "      <td>0.135602</td>\n",
              "      <td>0.0</td>\n",
              "      <td>0.0</td>\n",
              "      <td>0.0</td>\n",
              "      <td>0.0</td>\n",
              "      <td>0.0</td>\n",
              "      <td>0.0</td>\n",
              "      <td>0.053340</td>\n",
              "      <td>...</td>\n",
              "      <td>0.000000</td>\n",
              "      <td>0.175342</td>\n",
              "      <td>0.108057</td>\n",
              "      <td>0.185343</td>\n",
              "      <td>0.0</td>\n",
              "      <td>0.209194</td>\n",
              "      <td>0.247692</td>\n",
              "      <td>0.0</td>\n",
              "      <td>0.213322</td>\n",
              "      <td>b'SOVXNQF12A8C13075E'</td>\n",
              "    </tr>\n",
              "    <tr>\n",
              "      <th>4</th>\n",
              "      <td>0.000000</td>\n",
              "      <td>0.089966</td>\n",
              "      <td>0.042336</td>\n",
              "      <td>0.0</td>\n",
              "      <td>0.0</td>\n",
              "      <td>0.0</td>\n",
              "      <td>0.0</td>\n",
              "      <td>0.0</td>\n",
              "      <td>0.0</td>\n",
              "      <td>0.107978</td>\n",
              "      <td>...</td>\n",
              "      <td>0.000000</td>\n",
              "      <td>0.109960</td>\n",
              "      <td>0.141078</td>\n",
              "      <td>0.187198</td>\n",
              "      <td>0.0</td>\n",
              "      <td>0.282225</td>\n",
              "      <td>0.159585</td>\n",
              "      <td>0.0</td>\n",
              "      <td>0.284263</td>\n",
              "      <td>b'SOTICDK12A8C13A367'</td>\n",
              "    </tr>\n",
              "    <tr>\n",
              "      <th>...</th>\n",
              "      <td>...</td>\n",
              "      <td>...</td>\n",
              "      <td>...</td>\n",
              "      <td>...</td>\n",
              "      <td>...</td>\n",
              "      <td>...</td>\n",
              "      <td>...</td>\n",
              "      <td>...</td>\n",
              "      <td>...</td>\n",
              "      <td>...</td>\n",
              "      <td>...</td>\n",
              "      <td>...</td>\n",
              "      <td>...</td>\n",
              "      <td>...</td>\n",
              "      <td>...</td>\n",
              "      <td>...</td>\n",
              "      <td>...</td>\n",
              "      <td>...</td>\n",
              "      <td>...</td>\n",
              "      <td>...</td>\n",
              "      <td>...</td>\n",
              "    </tr>\n",
              "    <tr>\n",
              "      <th>9995</th>\n",
              "      <td>0.018078</td>\n",
              "      <td>0.000303</td>\n",
              "      <td>0.087436</td>\n",
              "      <td>0.0</td>\n",
              "      <td>0.0</td>\n",
              "      <td>0.0</td>\n",
              "      <td>0.0</td>\n",
              "      <td>0.0</td>\n",
              "      <td>0.0</td>\n",
              "      <td>0.063134</td>\n",
              "      <td>...</td>\n",
              "      <td>0.000000</td>\n",
              "      <td>0.152046</td>\n",
              "      <td>0.054177</td>\n",
              "      <td>0.186511</td>\n",
              "      <td>0.0</td>\n",
              "      <td>0.135987</td>\n",
              "      <td>0.190105</td>\n",
              "      <td>0.0</td>\n",
              "      <td>0.272392</td>\n",
              "      <td>b'SOEWCSS12A8C13AFFF'</td>\n",
              "    </tr>\n",
              "    <tr>\n",
              "      <th>9996</th>\n",
              "      <td>0.023799</td>\n",
              "      <td>0.000000</td>\n",
              "      <td>0.154472</td>\n",
              "      <td>0.0</td>\n",
              "      <td>0.0</td>\n",
              "      <td>0.0</td>\n",
              "      <td>0.0</td>\n",
              "      <td>0.0</td>\n",
              "      <td>0.0</td>\n",
              "      <td>0.000000</td>\n",
              "      <td>...</td>\n",
              "      <td>0.000000</td>\n",
              "      <td>0.030065</td>\n",
              "      <td>0.046729</td>\n",
              "      <td>0.185681</td>\n",
              "      <td>0.0</td>\n",
              "      <td>0.232341</td>\n",
              "      <td>0.165357</td>\n",
              "      <td>0.0</td>\n",
              "      <td>0.228144</td>\n",
              "      <td>b'SOMCIPW12A8C144CA3'</td>\n",
              "    </tr>\n",
              "    <tr>\n",
              "      <th>9997</th>\n",
              "      <td>0.021132</td>\n",
              "      <td>0.000000</td>\n",
              "      <td>0.132676</td>\n",
              "      <td>0.0</td>\n",
              "      <td>0.0</td>\n",
              "      <td>0.0</td>\n",
              "      <td>0.0</td>\n",
              "      <td>0.0</td>\n",
              "      <td>0.0</td>\n",
              "      <td>0.044222</td>\n",
              "      <td>...</td>\n",
              "      <td>0.000000</td>\n",
              "      <td>0.144242</td>\n",
              "      <td>0.000000</td>\n",
              "      <td>0.091493</td>\n",
              "      <td>0.0</td>\n",
              "      <td>0.179120</td>\n",
              "      <td>0.175604</td>\n",
              "      <td>0.0</td>\n",
              "      <td>0.263317</td>\n",
              "      <td>b'SOMONOL12AB01804C6'</td>\n",
              "    </tr>\n",
              "    <tr>\n",
              "      <th>9998</th>\n",
              "      <td>0.022062</td>\n",
              "      <td>0.017326</td>\n",
              "      <td>0.058560</td>\n",
              "      <td>0.0</td>\n",
              "      <td>0.0</td>\n",
              "      <td>0.0</td>\n",
              "      <td>0.0</td>\n",
              "      <td>0.0</td>\n",
              "      <td>0.0</td>\n",
              "      <td>0.031393</td>\n",
              "      <td>...</td>\n",
              "      <td>0.000000</td>\n",
              "      <td>0.000000</td>\n",
              "      <td>0.156604</td>\n",
              "      <td>0.176791</td>\n",
              "      <td>0.0</td>\n",
              "      <td>0.117625</td>\n",
              "      <td>0.203728</td>\n",
              "      <td>0.0</td>\n",
              "      <td>0.172650</td>\n",
              "      <td>b'SOEJQOM12A8C13D882'</td>\n",
              "    </tr>\n",
              "    <tr>\n",
              "      <th>9999</th>\n",
              "      <td>0.000000</td>\n",
              "      <td>0.046915</td>\n",
              "      <td>0.187862</td>\n",
              "      <td>0.0</td>\n",
              "      <td>0.0</td>\n",
              "      <td>0.0</td>\n",
              "      <td>0.0</td>\n",
              "      <td>0.0</td>\n",
              "      <td>0.0</td>\n",
              "      <td>0.059647</td>\n",
              "      <td>...</td>\n",
              "      <td>0.000000</td>\n",
              "      <td>0.038937</td>\n",
              "      <td>0.066810</td>\n",
              "      <td>0.173742</td>\n",
              "      <td>0.0</td>\n",
              "      <td>0.159091</td>\n",
              "      <td>0.166275</td>\n",
              "      <td>0.0</td>\n",
              "      <td>0.242276</td>\n",
              "      <td>b'SORBRJO12A8C13F0BC'</td>\n",
              "    </tr>\n",
              "  </tbody>\n",
              "</table>\n",
              "<p>10000 rows × 33 columns</p>\n",
              "</div>\n",
              "      <button class=\"colab-df-convert\" onclick=\"convertToInteractive('df-86af35db-822d-4f70-a687-31762c225ef6')\"\n",
              "              title=\"Convert this dataframe to an interactive table.\"\n",
              "              style=\"display:none;\">\n",
              "        \n",
              "  <svg xmlns=\"http://www.w3.org/2000/svg\" height=\"24px\"viewBox=\"0 0 24 24\"\n",
              "       width=\"24px\">\n",
              "    <path d=\"M0 0h24v24H0V0z\" fill=\"none\"/>\n",
              "    <path d=\"M18.56 5.44l.94 2.06.94-2.06 2.06-.94-2.06-.94-.94-2.06-.94 2.06-2.06.94zm-11 1L8.5 8.5l.94-2.06 2.06-.94-2.06-.94L8.5 2.5l-.94 2.06-2.06.94zm10 10l.94 2.06.94-2.06 2.06-.94-2.06-.94-.94-2.06-.94 2.06-2.06.94z\"/><path d=\"M17.41 7.96l-1.37-1.37c-.4-.4-.92-.59-1.43-.59-.52 0-1.04.2-1.43.59L10.3 9.45l-7.72 7.72c-.78.78-.78 2.05 0 2.83L4 21.41c.39.39.9.59 1.41.59.51 0 1.02-.2 1.41-.59l7.78-7.78 2.81-2.81c.8-.78.8-2.07 0-2.86zM5.41 20L4 18.59l7.72-7.72 1.47 1.35L5.41 20z\"/>\n",
              "  </svg>\n",
              "      </button>\n",
              "      \n",
              "  <style>\n",
              "    .colab-df-container {\n",
              "      display:flex;\n",
              "      flex-wrap:wrap;\n",
              "      gap: 12px;\n",
              "    }\n",
              "\n",
              "    .colab-df-convert {\n",
              "      background-color: #E8F0FE;\n",
              "      border: none;\n",
              "      border-radius: 50%;\n",
              "      cursor: pointer;\n",
              "      display: none;\n",
              "      fill: #1967D2;\n",
              "      height: 32px;\n",
              "      padding: 0 0 0 0;\n",
              "      width: 32px;\n",
              "    }\n",
              "\n",
              "    .colab-df-convert:hover {\n",
              "      background-color: #E2EBFA;\n",
              "      box-shadow: 0px 1px 2px rgba(60, 64, 67, 0.3), 0px 1px 3px 1px rgba(60, 64, 67, 0.15);\n",
              "      fill: #174EA6;\n",
              "    }\n",
              "\n",
              "    [theme=dark] .colab-df-convert {\n",
              "      background-color: #3B4455;\n",
              "      fill: #D2E3FC;\n",
              "    }\n",
              "\n",
              "    [theme=dark] .colab-df-convert:hover {\n",
              "      background-color: #434B5C;\n",
              "      box-shadow: 0px 1px 3px 1px rgba(0, 0, 0, 0.15);\n",
              "      filter: drop-shadow(0px 1px 2px rgba(0, 0, 0, 0.3));\n",
              "      fill: #FFFFFF;\n",
              "    }\n",
              "  </style>\n",
              "\n",
              "      <script>\n",
              "        const buttonEl =\n",
              "          document.querySelector('#df-86af35db-822d-4f70-a687-31762c225ef6 button.colab-df-convert');\n",
              "        buttonEl.style.display =\n",
              "          google.colab.kernel.accessAllowed ? 'block' : 'none';\n",
              "\n",
              "        async function convertToInteractive(key) {\n",
              "          const element = document.querySelector('#df-86af35db-822d-4f70-a687-31762c225ef6');\n",
              "          const dataTable =\n",
              "            await google.colab.kernel.invokeFunction('convertToInteractive',\n",
              "                                                     [key], {});\n",
              "          if (!dataTable) return;\n",
              "\n",
              "          const docLinkHtml = 'Like what you see? Visit the ' +\n",
              "            '<a target=\"_blank\" href=https://colab.research.google.com/notebooks/data_table.ipynb>data table notebook</a>'\n",
              "            + ' to learn more about interactive tables.';\n",
              "          element.innerHTML = '';\n",
              "          dataTable['output_type'] = 'display_data';\n",
              "          await google.colab.output.renderOutput(dataTable, element);\n",
              "          const docLink = document.createElement('div');\n",
              "          docLink.innerHTML = docLinkHtml;\n",
              "          element.appendChild(docLink);\n",
              "        }\n",
              "      </script>\n",
              "    </div>\n",
              "  </div>\n",
              "  "
            ]
          },
          "metadata": {},
          "execution_count": 51
        }
      ]
    },
    {
      "cell_type": "code",
      "source": [
        "x_train.columns"
      ],
      "metadata": {
        "colab": {
          "base_uri": "https://localhost:8080/"
        },
        "id": "DsSVDkneisKy",
        "outputId": "85e63817-54be-40bb-9246-c10c0249b1f1"
      },
      "id": "DsSVDkneisKy",
      "execution_count": null,
      "outputs": [
        {
          "output_type": "execute_result",
          "data": {
            "text/plain": [
              "Index(['song_id', '325e8fcea8e1f6c8595edb169a245b12c2f5fd2b',\n",
              "       'e79f691b7dbc53af49239a2d0c5edb75dbe9ac02',\n",
              "       '61b7c3a7aba60e32ef0fc28184ac0ff5ceed0d82',\n",
              "       'ad15ded1bdeb0ff955e73d0e3788baaa07b8d431',\n",
              "       '6a719cb0becb1836ede0eb040f38496657c405a2',\n",
              "       '87b7eb659a6ab6b96f9aad0f3c7b2c88e7b58577',\n",
              "       '8f8e7988e6cbd0a638f3b3ebca9a27bc5e740e3d',\n",
              "       'ee237cfde1a6edfbec24ea873223ebb779bb8e6c',\n",
              "       '75df61565bd65202b21621a494d43be564616df8',\n",
              "       ...\n",
              "       'f09ec4b6cf21d04f0f4028f8d1d25c3592ea0c49',\n",
              "       '183fef5b0683caac2ca1e5bcd9b70f182d7467bf',\n",
              "       '386dff8d43f55ae38b52a8c79a3f9ee87bb3e17b',\n",
              "       '391e61653fb96f55b2ee01cfee1a6732edc47f0f',\n",
              "       '312791c8514b3c56227b8e7e64ecadd1b5f7c163',\n",
              "       'ced35304fea885732645bfd30c21ea178ef2b247',\n",
              "       '6b69084550e6d6754c348d5698f5cead6fb866e9',\n",
              "       '63b7e973731c91d8759c89ec4f46046cacead651',\n",
              "       'a506d805b7bd4fbc2d41f330c9d8c59796939dee',\n",
              "       '793d538759fc97793c3c0fab509b2c9dd7e26108'],\n",
              "      dtype='object', length=1001)"
            ]
          },
          "metadata": {},
          "execution_count": 29
        }
      ]
    },
    {
      "cell_type": "code",
      "source": [
        "lookup = x_train[x_train.columns[:2]]"
      ],
      "metadata": {
        "id": "-CJImsD1isE7"
      },
      "id": "-CJImsD1isE7",
      "execution_count": null,
      "outputs": []
    },
    {
      "cell_type": "code",
      "source": [
        "lookup['embeddings']"
      ],
      "metadata": {
        "colab": {
          "base_uri": "https://localhost:8080/",
          "height": 419
        },
        "id": "igqqHgjSjPEW",
        "outputId": "051345e7-9b70-459d-c913-24f923595c4b"
      },
      "id": "igqqHgjSjPEW",
      "execution_count": null,
      "outputs": [
        {
          "output_type": "execute_result",
          "data": {
            "text/plain": [
              "                    song_id   \n",
              "0     b'SOMQQIA12AB01806E0'  0\n",
              "1     b'SOCRZKC12AB018C30B'  0\n",
              "2     b'SODNITK12AB0180EB5'  0\n",
              "3     b'SORIPPH12A58A7E41E'  0\n",
              "4     b'SOBOVRA12A8C133E91'  0\n",
              "...                     ... ..\n",
              "9995  b'SODETQN12AB018BF95'  0\n",
              "9996  b'SOQQVEJ12AB017F5F5'  0\n",
              "9997  b'SOTLKMH12AB018EA65'  0\n",
              "9998  b'SOGIAAI12A6D4F9404'  0\n",
              "9999  b'SOLDZUD12A6D4F76AB'  0\n",
              "\n",
              "[10000 rows x 2 columns]"
            ],
            "text/html": [
              "\n",
              "  <div id=\"df-f25fa933-2ce5-4258-b00b-0d1a71a0bafe\">\n",
              "    <div class=\"colab-df-container\">\n",
              "      <div>\n",
              "<style scoped>\n",
              "    .dataframe tbody tr th:only-of-type {\n",
              "        vertical-align: middle;\n",
              "    }\n",
              "\n",
              "    .dataframe tbody tr th {\n",
              "        vertical-align: top;\n",
              "    }\n",
              "\n",
              "    .dataframe thead th {\n",
              "        text-align: right;\n",
              "    }\n",
              "</style>\n",
              "<table border=\"1\" class=\"dataframe\">\n",
              "  <thead>\n",
              "    <tr style=\"text-align: right;\">\n",
              "      <th></th>\n",
              "      <th>song_id</th>\n",
              "      <th></th>\n",
              "    </tr>\n",
              "  </thead>\n",
              "  <tbody>\n",
              "    <tr>\n",
              "      <th>0</th>\n",
              "      <td>b'SOMQQIA12AB01806E0'</td>\n",
              "      <td>0</td>\n",
              "    </tr>\n",
              "    <tr>\n",
              "      <th>1</th>\n",
              "      <td>b'SOCRZKC12AB018C30B'</td>\n",
              "      <td>0</td>\n",
              "    </tr>\n",
              "    <tr>\n",
              "      <th>2</th>\n",
              "      <td>b'SODNITK12AB0180EB5'</td>\n",
              "      <td>0</td>\n",
              "    </tr>\n",
              "    <tr>\n",
              "      <th>3</th>\n",
              "      <td>b'SORIPPH12A58A7E41E'</td>\n",
              "      <td>0</td>\n",
              "    </tr>\n",
              "    <tr>\n",
              "      <th>4</th>\n",
              "      <td>b'SOBOVRA12A8C133E91'</td>\n",
              "      <td>0</td>\n",
              "    </tr>\n",
              "    <tr>\n",
              "      <th>...</th>\n",
              "      <td>...</td>\n",
              "      <td>...</td>\n",
              "    </tr>\n",
              "    <tr>\n",
              "      <th>9995</th>\n",
              "      <td>b'SODETQN12AB018BF95'</td>\n",
              "      <td>0</td>\n",
              "    </tr>\n",
              "    <tr>\n",
              "      <th>9996</th>\n",
              "      <td>b'SOQQVEJ12AB017F5F5'</td>\n",
              "      <td>0</td>\n",
              "    </tr>\n",
              "    <tr>\n",
              "      <th>9997</th>\n",
              "      <td>b'SOTLKMH12AB018EA65'</td>\n",
              "      <td>0</td>\n",
              "    </tr>\n",
              "    <tr>\n",
              "      <th>9998</th>\n",
              "      <td>b'SOGIAAI12A6D4F9404'</td>\n",
              "      <td>0</td>\n",
              "    </tr>\n",
              "    <tr>\n",
              "      <th>9999</th>\n",
              "      <td>b'SOLDZUD12A6D4F76AB'</td>\n",
              "      <td>0</td>\n",
              "    </tr>\n",
              "  </tbody>\n",
              "</table>\n",
              "<p>10000 rows × 2 columns</p>\n",
              "</div>\n",
              "      <button class=\"colab-df-convert\" onclick=\"convertToInteractive('df-f25fa933-2ce5-4258-b00b-0d1a71a0bafe')\"\n",
              "              title=\"Convert this dataframe to an interactive table.\"\n",
              "              style=\"display:none;\">\n",
              "        \n",
              "  <svg xmlns=\"http://www.w3.org/2000/svg\" height=\"24px\"viewBox=\"0 0 24 24\"\n",
              "       width=\"24px\">\n",
              "    <path d=\"M0 0h24v24H0V0z\" fill=\"none\"/>\n",
              "    <path d=\"M18.56 5.44l.94 2.06.94-2.06 2.06-.94-2.06-.94-.94-2.06-.94 2.06-2.06.94zm-11 1L8.5 8.5l.94-2.06 2.06-.94-2.06-.94L8.5 2.5l-.94 2.06-2.06.94zm10 10l.94 2.06.94-2.06 2.06-.94-2.06-.94-.94-2.06-.94 2.06-2.06.94z\"/><path d=\"M17.41 7.96l-1.37-1.37c-.4-.4-.92-.59-1.43-.59-.52 0-1.04.2-1.43.59L10.3 9.45l-7.72 7.72c-.78.78-.78 2.05 0 2.83L4 21.41c.39.39.9.59 1.41.59.51 0 1.02-.2 1.41-.59l7.78-7.78 2.81-2.81c.8-.78.8-2.07 0-2.86zM5.41 20L4 18.59l7.72-7.72 1.47 1.35L5.41 20z\"/>\n",
              "  </svg>\n",
              "      </button>\n",
              "      \n",
              "  <style>\n",
              "    .colab-df-container {\n",
              "      display:flex;\n",
              "      flex-wrap:wrap;\n",
              "      gap: 12px;\n",
              "    }\n",
              "\n",
              "    .colab-df-convert {\n",
              "      background-color: #E8F0FE;\n",
              "      border: none;\n",
              "      border-radius: 50%;\n",
              "      cursor: pointer;\n",
              "      display: none;\n",
              "      fill: #1967D2;\n",
              "      height: 32px;\n",
              "      padding: 0 0 0 0;\n",
              "      width: 32px;\n",
              "    }\n",
              "\n",
              "    .colab-df-convert:hover {\n",
              "      background-color: #E2EBFA;\n",
              "      box-shadow: 0px 1px 2px rgba(60, 64, 67, 0.3), 0px 1px 3px 1px rgba(60, 64, 67, 0.15);\n",
              "      fill: #174EA6;\n",
              "    }\n",
              "\n",
              "    [theme=dark] .colab-df-convert {\n",
              "      background-color: #3B4455;\n",
              "      fill: #D2E3FC;\n",
              "    }\n",
              "\n",
              "    [theme=dark] .colab-df-convert:hover {\n",
              "      background-color: #434B5C;\n",
              "      box-shadow: 0px 1px 3px 1px rgba(0, 0, 0, 0.15);\n",
              "      filter: drop-shadow(0px 1px 2px rgba(0, 0, 0, 0.3));\n",
              "      fill: #FFFFFF;\n",
              "    }\n",
              "  </style>\n",
              "\n",
              "      <script>\n",
              "        const buttonEl =\n",
              "          document.querySelector('#df-f25fa933-2ce5-4258-b00b-0d1a71a0bafe button.colab-df-convert');\n",
              "        buttonEl.style.display =\n",
              "          google.colab.kernel.accessAllowed ? 'block' : 'none';\n",
              "\n",
              "        async function convertToInteractive(key) {\n",
              "          const element = document.querySelector('#df-f25fa933-2ce5-4258-b00b-0d1a71a0bafe');\n",
              "          const dataTable =\n",
              "            await google.colab.kernel.invokeFunction('convertToInteractive',\n",
              "                                                     [key], {});\n",
              "          if (!dataTable) return;\n",
              "\n",
              "          const docLinkHtml = 'Like what you see? Visit the ' +\n",
              "            '<a target=\"_blank\" href=https://colab.research.google.com/notebooks/data_table.ipynb>data table notebook</a>'\n",
              "            + ' to learn more about interactive tables.';\n",
              "          element.innerHTML = '';\n",
              "          dataTable['output_type'] = 'display_data';\n",
              "          await google.colab.output.renderOutput(dataTable, element);\n",
              "          const docLink = document.createElement('div');\n",
              "          docLink.innerHTML = docLinkHtml;\n",
              "          element.appendChild(docLink);\n",
              "        }\n",
              "      </script>\n",
              "    </div>\n",
              "  </div>\n",
              "  "
            ]
          },
          "metadata": {},
          "execution_count": 42
        }
      ]
    },
    {
      "cell_type": "code",
      "source": [
        ""
      ],
      "metadata": {
        "colab": {
          "base_uri": "https://localhost:8080/",
          "height": 283
        },
        "id": "Dn8nBHGGir_d",
        "outputId": "2db2e425-0f54-43e1-9841-da0ce227f910"
      },
      "id": "Dn8nBHGGir_d",
      "execution_count": null,
      "outputs": [
        {
          "output_type": "error",
          "ename": "AttributeError",
          "evalue": "ignored",
          "traceback": [
            "\u001b[0;31m---------------------------------------------------------------------------\u001b[0m",
            "\u001b[0;31mAttributeError\u001b[0m                            Traceback (most recent call last)",
            "\u001b[0;32m<ipython-input-38-520cfbe3f83f>\u001b[0m in \u001b[0;36m<module>\u001b[0;34m()\u001b[0m\n\u001b[0;32m----> 1\u001b[0;31m \u001b[0mlookup\u001b[0m\u001b[0;34m.\u001b[0m\u001b[0mcolumns\u001b[0m\u001b[0;34m\u001b[0m\u001b[0;34m\u001b[0m\u001b[0m\n\u001b[0m",
            "\u001b[0;32m/usr/local/lib/python3.7/dist-packages/pandas/core/generic.py\u001b[0m in \u001b[0;36m__getattr__\u001b[0;34m(self, name)\u001b[0m\n\u001b[1;32m   5485\u001b[0m         ):\n\u001b[1;32m   5486\u001b[0m             \u001b[0;32mreturn\u001b[0m \u001b[0mself\u001b[0m\u001b[0;34m[\u001b[0m\u001b[0mname\u001b[0m\u001b[0;34m]\u001b[0m\u001b[0;34m\u001b[0m\u001b[0;34m\u001b[0m\u001b[0m\n\u001b[0;32m-> 5487\u001b[0;31m         \u001b[0;32mreturn\u001b[0m \u001b[0mobject\u001b[0m\u001b[0;34m.\u001b[0m\u001b[0m__getattribute__\u001b[0m\u001b[0;34m(\u001b[0m\u001b[0mself\u001b[0m\u001b[0;34m,\u001b[0m \u001b[0mname\u001b[0m\u001b[0;34m)\u001b[0m\u001b[0;34m\u001b[0m\u001b[0;34m\u001b[0m\u001b[0m\n\u001b[0m\u001b[1;32m   5488\u001b[0m \u001b[0;34m\u001b[0m\u001b[0m\n\u001b[1;32m   5489\u001b[0m     \u001b[0;32mdef\u001b[0m \u001b[0m__setattr__\u001b[0m\u001b[0;34m(\u001b[0m\u001b[0mself\u001b[0m\u001b[0;34m,\u001b[0m \u001b[0mname\u001b[0m\u001b[0;34m:\u001b[0m \u001b[0mstr\u001b[0m\u001b[0;34m,\u001b[0m \u001b[0mvalue\u001b[0m\u001b[0;34m)\u001b[0m \u001b[0;34m->\u001b[0m \u001b[0;32mNone\u001b[0m\u001b[0;34m:\u001b[0m\u001b[0;34m\u001b[0m\u001b[0;34m\u001b[0m\u001b[0m\n",
            "\u001b[0;31mAttributeError\u001b[0m: 'Series' object has no attribute 'columns'"
          ]
        }
      ]
    },
    {
      "cell_type": "code",
      "source": [
        ""
      ],
      "metadata": {
        "id": "FDF-6grJir6F"
      },
      "id": "FDF-6grJir6F",
      "execution_count": null,
      "outputs": []
    },
    {
      "cell_type": "code",
      "metadata": {
        "colab": {
          "base_uri": "https://localhost:8080/",
          "height": 224
        },
        "id": "jRYRptMAq1ov",
        "outputId": "b01552ef-c5c9-4535-dcdb-2f65f6377511"
      },
      "source": [
        "#PLotting originl vs constructed image\n",
        "\n",
        "decoded_imgs = autoencoder.predict(x_train_set)\n",
        "\n",
        "n = 10\n",
        "plt.figure(figsize=(20, 4))\n",
        "for i in range(1, n + 1):\n",
        "    # Display original\n",
        "    ax = plt.subplot(2, n, i)\n",
        "    plt.imshow(x_train_set[i].reshape(32, 32))\n",
        "    plt.gray()\n",
        "    ax.get_xaxis().set_visible(False)\n",
        "    ax.get_yaxis().set_visible(False)\n",
        "\n",
        "    # Display reconstruction\n",
        "    ax = plt.subplot(2, n, i + n)\n",
        "    plt.imshow(decoded_imgs[i].reshape(32, 32))\n",
        "    plt.gray()\n",
        "    ax.get_xaxis().set_visible(False)\n",
        "    ax.get_yaxis().set_visible(False)\n",
        "plt.show()"
      ],
      "id": "jRYRptMAq1ov",
      "execution_count": null,
      "outputs": [
        {
          "output_type": "display_data",
          "data": {
            "image/png": "[encoded data removed]",
            "text/plain": [
              "<Figure size 1440x288 with 20 Axes>"
            ]
          },
          "metadata": {
            "needs_background": "light"
          }
        }
      ]
    },
    {
      "cell_type": "code",
      "metadata": {
        "id": "IPe6jtMoq16s"
      },
      "source": [
        "#Kmeans on encoded variables"
      ],
      "id": "IPe6jtMoq16s",
      "execution_count": null,
      "outputs": []
    },
    {
      "cell_type": "code",
      "metadata": {
        "colab": {
          "base_uri": "https://localhost:8080/"
        },
        "id": "ebiCJ_nWrolj",
        "outputId": "1f3fadd2-e6de-4bae-d98a-492c292c099b"
      },
      "source": [
        "#Preprocessing encoder variables for Kmeans \n",
        "\n",
        "encoded = np.array([encoded_output.numpy().reshape(128,1).squeeze(axis = 1) for encoded_output in intermediate_output])  \n",
        "print(encoded.shape)"
      ],
      "id": "ebiCJ_nWrolj",
      "execution_count": null,
      "outputs": [
        {
          "output_type": "stream",
          "name": "stdout",
          "text": [
            "(50000, 128)\n"
          ]
        }
      ]
    },
    {
      "cell_type": "code",
      "metadata": {
        "id": "QFB9ucVIrxlQ"
      },
      "source": [
        "#Kmeans on encoder variable \n",
        "\n",
        "model = KMeans(n_clusters=13, init='random',\n",
        "               n_init=10, max_iter=100, random_state=5)\n",
        "\n",
        "preds = model.fit_predict(encoded)"
      ],
      "id": "QFB9ucVIrxlQ",
      "execution_count": null,
      "outputs": []
    },
    {
      "cell_type": "code",
      "metadata": {
        "colab": {
          "base_uri": "https://localhost:8080/"
        },
        "id": "bGetmoaEr4xR",
        "outputId": "a7c91013-dde1-4228-afc0-7b0dd1bd1eb6"
      },
      "source": [
        "print('Davies Bouldin score: {}'.format(davies_bouldin_score(encoded, preds)))\n",
        "print('ASC score: {}'.format(silhouette_score(encoded, preds)))"
      ],
      "id": "bGetmoaEr4xR",
      "execution_count": null,
      "outputs": [
        {
          "output_type": "stream",
          "name": "stdout",
          "text": [
            "Davies Bouldin score: 2.0324454632939095\n",
            "ASC score: 0.08676658570766449\n"
          ]
        }
      ]
    }
  ]
}